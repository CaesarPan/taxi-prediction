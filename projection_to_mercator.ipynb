{
 "cells": [
  {
   "cell_type": "code",
   "execution_count": 5,
   "metadata": {},
   "outputs": [],
   "source": [
    "from osgeo import ogr, osr\n",
    "import os"
   ]
  },
  {
   "cell_type": "code",
   "execution_count": 6,
   "metadata": {},
   "outputs": [],
   "source": [
    "driver = ogr.GetDriverByName('ESRI Shapefile')\n",
    "\n",
    "inDataSet = driver.Open(os.path.join(\"assets\", \"taxi_zones\", \"taxi_zones.shp\"))\n",
    "inLayer = inDataSet.GetLayer()\n",
    "# crs\n",
    "inSpatialRef = inLayer.GetSpatialRef()\n",
    "# spatialRef.ExportToWkt()\n",
    "\n",
    "outSpatialRef = ogr.osr.SpatialReference()\n",
    "outSpatialRef.ImportFromEPSG(3857)\n",
    "\n",
    "coordTrans = ogr.osr.CoordinateTransformation(inSpatialRef, dest)\n",
    "\n",
    "# create the output layer\n",
    "outputShapefile = os.path.join(\"assets\", \"taxi_zones\", \"taxi_zones_mercator.shp\")\n",
    "if os.path.exists(outputShapefile):\n",
    "    driver.DeleteDataSource(outputShapefile)\n",
    "outDataSet = driver.CreateDataSource(outputShapefile)\n",
    "outLayer = outDataSet.CreateLayer(\"basemap_3857\", geom_type=ogr.wkbMultiPolygon)\n",
    "\n",
    "# add fields\n",
    "inLayerDefn = inLayer.GetLayerDefn()\n",
    "for i in range(0, inLayerDefn.GetFieldCount()):\n",
    "    fieldDefn = inLayerDefn.GetFieldDefn(i)\n",
    "    outLayer.CreateField(fieldDefn)\n",
    "\n",
    "# get the output layer's feature definition\n",
    "outLayerDefn = outLayer.GetLayerDefn()\n",
    "\n",
    "# loop through the input features\n",
    "inFeature = inLayer.GetNextFeature()\n",
    "while inFeature:\n",
    "    # get the input geometry\n",
    "    geom = inFeature.GetGeometryRef()\n",
    "    # reproject the geometry\n",
    "    geom.Transform(coordTrans)\n",
    "    # create a new feature\n",
    "    outFeature = ogr.Feature(outLayerDefn)\n",
    "    # set the geometry and attribute\n",
    "    outFeature.SetGeometry(geom)\n",
    "    for i in range(0, outLayerDefn.GetFieldCount()):\n",
    "        outFeature.SetField(outLayerDefn.GetFieldDefn(i).GetNameRef(), inFeature.GetField(i))\n",
    "    # add the feature to the shapefile\n",
    "    outLayer.CreateFeature(outFeature)\n",
    "    # dereference the features and get the next input feature\n",
    "    outFeature = None\n",
    "    inFeature = inLayer.GetNextFeature()\n",
    "\n",
    "# Save and close the shapefiles\n",
    "inDataSet = None\n",
    "outDataSet = None\n"
   ]
  }
 ],
 "metadata": {
  "kernelspec": {
   "display_name": "Python 3",
   "language": "python",
   "name": "python3"
  },
  "language_info": {
   "codemirror_mode": {
    "name": "ipython",
    "version": 3
   },
   "file_extension": ".py",
   "mimetype": "text/x-python",
   "name": "python",
   "nbconvert_exporter": "python",
   "pygments_lexer": "ipython3",
   "version": "3.7.0"
  }
 },
 "nbformat": 4,
 "nbformat_minor": 2
}
