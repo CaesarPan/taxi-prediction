{
 "cells": [
  {
   "cell_type": "code",
   "execution_count": 1,
   "metadata": {},
   "outputs": [],
   "source": [
    "import numpy as np\n",
    "import pandas as pd\n",
    "import pdb\n",
    "import os\n",
    "import matplotlib.pyplot as plt\n",
    "import scipy.stats"
   ]
  },
  {
   "cell_type": "code",
   "execution_count": 2,
   "metadata": {},
   "outputs": [
    {
     "name": "stdout",
     "output_type": "stream",
     "text": [
      "6875516\n",
      "  tpep_pickup_datetime tpep_dropoff_datetime  trip_distance  PULocationID  \\\n",
      "0  2016-07-10 11:00:00   2016-07-10 10:54:59           1.60           141   \n",
      "1  2016-07-10 11:00:00   2016-07-10 10:57:00           1.10            79   \n",
      "2  2016-07-10 11:00:00   2016-07-10 10:55:23           0.84           163   \n",
      "3  2016-07-10 11:00:00   2016-07-10 10:58:19           1.89           166   \n",
      "4  2016-07-17 03:00:00   2016-07-17 03:04:51           1.00           148   \n",
      "\n",
      "   DOLocationID  fare_amount  tip_amount  total_amount  day_of_week  t_bucket  \\\n",
      "0           137          6.5        0.00          7.30            6        22   \n",
      "1           232          6.5        0.00          7.30            6        22   \n",
      "2           237          5.5        0.00          6.30            6        22   \n",
      "3           151          8.5        0.00          9.30            6        22   \n",
      "4           224          5.0        1.55          7.85            6         6   \n",
      "\n",
      "   month  cluster_id  \n",
      "0      7        1208  \n",
      "1      7         675  \n",
      "2      7        1416  \n",
      "3      7        1447  \n",
      "4      7        1274  \n"
     ]
    }
   ],
   "source": [
    "df = pd.read_pickle('/home/lashi/assets/clean-data/full_data_161718.pickle')\n",
    "print(len(df))\n",
    "print(df.head())"
   ]
  },
  {
   "cell_type": "code",
   "execution_count": 3,
   "metadata": {},
   "outputs": [],
   "source": [
    "def applyBucketsToFaresAndDist(df):\n",
    "    val = df.values[:, 5]\n",
    "    df['fare_bucket'] = np.where(val <= 0, 0, \n",
    "                                 np.where(val <= 5, 1, \n",
    "                                          np.where(val <= 10, 2, \n",
    "                                                   np.where(val <= 15, 3, \n",
    "                                                            np.where(val <= 25, 4, \n",
    "                                                                     np.where(val <= 50, 5, \n",
    "                                                                              np.where(val <= 60, 6, 7)))))))\n",
    "    \n",
    "    val = df.values[:, 2]\n",
    "    df['dist_bucket'] = np.where(val <= 0.5, 0, \n",
    "                             np.where(val <= 1.0, 1, \n",
    "                                      np.where(val <= 1.5, 2, \n",
    "                                               np.where(val <= 2.0, 3, \n",
    "                                                        np.where(val <= 3.0, 4, \n",
    "                                                                 np.where(val <= 5.0, 5, \n",
    "                                                                          np.where(val <= 10.0, 6, 7)))))))\n",
    "    print(df.head())\n"
   ]
  },
  {
   "cell_type": "code",
   "execution_count": 4,
   "metadata": {},
   "outputs": [
    {
     "name": "stdout",
     "output_type": "stream",
     "text": [
      "  tpep_pickup_datetime tpep_dropoff_datetime  trip_distance  PULocationID  \\\n",
      "0  2016-07-10 11:00:00   2016-07-10 10:54:59           1.60           141   \n",
      "1  2016-07-10 11:00:00   2016-07-10 10:57:00           1.10            79   \n",
      "2  2016-07-10 11:00:00   2016-07-10 10:55:23           0.84           163   \n",
      "3  2016-07-10 11:00:00   2016-07-10 10:58:19           1.89           166   \n",
      "4  2016-07-17 03:00:00   2016-07-17 03:04:51           1.00           148   \n",
      "\n",
      "   DOLocationID  fare_amount  tip_amount  total_amount  day_of_week  t_bucket  \\\n",
      "0           137          6.5        0.00          7.30            6        22   \n",
      "1           232          6.5        0.00          7.30            6        22   \n",
      "2           237          5.5        0.00          6.30            6        22   \n",
      "3           151          8.5        0.00          9.30            6        22   \n",
      "4           224          5.0        1.55          7.85            6         6   \n",
      "\n",
      "   month  cluster_id  fare_bucket  dist_bucket  \n",
      "0      7        1208            2            3  \n",
      "1      7         675            2            2  \n",
      "2      7        1416            2            1  \n",
      "3      7        1447            2            3  \n",
      "4      7        1274            1            1  \n"
     ]
    }
   ],
   "source": [
    "applyBucketsToFaresAndDist(df)\n",
    "df.to_pickle('/home/lashi/assets/clean-data/full_data_161718_bucketed.pickle')"
   ]
  },
  {
   "cell_type": "code",
   "execution_count": 30,
   "metadata": {},
   "outputs": [],
   "source": [
    "def applyBucketsToActivity(df):\n",
    "    val = df.values[:, 3]\n",
    "    df['activity_bucket'] = np.where(val <= 2, 0, \n",
    "                                     np.where(val <= 5, 1, \n",
    "                                              np.where(val <= 7, 2, \n",
    "                                                       np.where(val <= 10, 3, \n",
    "                                                                np.where(val <= 15, 4, \n",
    "                                                                         np.where(val <= 25, 5,\n",
    "                                                                                  np.where(val <= 35, 6, \n",
    "                                                                                           np.where(val <= 45, 7, 8))))))))    \n",
    "    print(df.head())"
   ]
  },
  {
   "cell_type": "code",
   "execution_count": 31,
   "metadata": {},
   "outputs": [
    {
     "data": {
      "text/html": [
       "<div>\n",
       "<style scoped>\n",
       "    .dataframe tbody tr th:only-of-type {\n",
       "        vertical-align: middle;\n",
       "    }\n",
       "\n",
       "    .dataframe tbody tr th {\n",
       "        vertical-align: top;\n",
       "    }\n",
       "\n",
       "    .dataframe thead th {\n",
       "        text-align: right;\n",
       "    }\n",
       "</style>\n",
       "<table border=\"1\" class=\"dataframe\">\n",
       "  <thead>\n",
       "    <tr style=\"text-align: right;\">\n",
       "      <th></th>\n",
       "      <th>cluster_id</th>\n",
       "      <th>day_of_week</th>\n",
       "      <th>t_bucket</th>\n",
       "      <th>activity</th>\n",
       "    </tr>\n",
       "  </thead>\n",
       "  <tbody>\n",
       "    <tr>\n",
       "      <th>0</th>\n",
       "      <td>0</td>\n",
       "      <td>0</td>\n",
       "      <td>8</td>\n",
       "      <td>1</td>\n",
       "    </tr>\n",
       "    <tr>\n",
       "      <th>1</th>\n",
       "      <td>0</td>\n",
       "      <td>0</td>\n",
       "      <td>14</td>\n",
       "      <td>1</td>\n",
       "    </tr>\n",
       "    <tr>\n",
       "      <th>2</th>\n",
       "      <td>0</td>\n",
       "      <td>0</td>\n",
       "      <td>22</td>\n",
       "      <td>1</td>\n",
       "    </tr>\n",
       "    <tr>\n",
       "      <th>3</th>\n",
       "      <td>0</td>\n",
       "      <td>0</td>\n",
       "      <td>28</td>\n",
       "      <td>2</td>\n",
       "    </tr>\n",
       "    <tr>\n",
       "      <th>4</th>\n",
       "      <td>0</td>\n",
       "      <td>0</td>\n",
       "      <td>29</td>\n",
       "      <td>2</td>\n",
       "    </tr>\n",
       "  </tbody>\n",
       "</table>\n",
       "</div>"
      ],
      "text/plain": [
       "   cluster_id  day_of_week  t_bucket  activity\n",
       "0           0            0         8         1\n",
       "1           0            0        14         1\n",
       "2           0            0        22         1\n",
       "3           0            0        28         2\n",
       "4           0            0        29         2"
      ]
     },
     "execution_count": 31,
     "metadata": {},
     "output_type": "execute_result"
    }
   ],
   "source": [
    "df = pd.read_pickle('/home/lashi/assets/clean-data/activity_master_unbucketed.pickle')\n",
    "df.head()"
   ]
  },
  {
   "cell_type": "code",
   "execution_count": 32,
   "metadata": {},
   "outputs": [
    {
     "data": {
      "text/plain": [
       "DescribeResult(nobs=105067, minmax=(26, 546), mean=80.70175221525312, variance=2799.823654725764, skewness=1.8425503008657016, kurtosis=4.98306824251604)"
      ]
     },
     "execution_count": 32,
     "metadata": {},
     "output_type": "execute_result"
    },
    {
     "data": {
      "image/png": "[encoded data removed]",
      "text/plain": [
       "<Figure size 1080x504 with 1 Axes>"
      ]
     },
     "metadata": {
      "needs_background": "light"
     },
     "output_type": "display_data"
    }
   ],
   "source": [
    "clusters = df.activity\n",
    "\n",
    "clusters_interst = clusters[clusters > 25]\n",
    "plt.figure(figsize=(15,7))\n",
    "plt.hist(clusters_interst, bins=25)\n",
    "scipy.stats.describe(clusters_interst)"
   ]
  },
  {
   "cell_type": "code",
   "execution_count": 33,
   "metadata": {},
   "outputs": [
    {
     "name": "stdout",
     "output_type": "stream",
     "text": [
      "   cluster_id  day_of_week  t_bucket  activity  activity_bucket\n",
      "0           0            0         8         1                0\n",
      "1           0            0        14         1                0\n",
      "2           0            0        22         1                0\n",
      "3           0            0        28         2                0\n",
      "4           0            0        29         2                0\n",
      "        cluster_id  day_of_week  t_bucket  activity  activity_bucket\n",
      "662             18            1        45        16                5\n",
      "679             18            2        15        16                5\n",
      "682             18            2        18        17                5\n",
      "708             18            2        44        18                5\n",
      "709             18            2        45        17                5\n",
      "731             18            3        20        16                5\n",
      "741             18            3        30        17                5\n",
      "753             18            3        42        21                5\n",
      "756             18            3        45        20                5\n",
      "757             18            3        46        16                5\n",
      "758             18            3        47        23                5\n",
      "778             18            4        19        18                5\n",
      "796             18            4        37        17                5\n",
      "798             18            4        39        18                5\n",
      "800             18            4        41        16                5\n",
      "801             18            4        42        20                5\n",
      "802             18            4        43        18                5\n",
      "803             18            4        44        16                5\n",
      "804             18            4        45        19                5\n",
      "814             18            5         7        19                5\n",
      "815             18            5         8        20                5\n",
      "829             18            5        22        18                5\n",
      "833             18            5        26        19                5\n",
      "844             18            5        37        17                5\n",
      "845             18            5        38        17                5\n",
      "846             18            5        39        16                5\n",
      "847             18            5        40        17                5\n",
      "848             18            5        41        23                5\n",
      "849             18            5        42        25                5\n",
      "854             18            5        47        24                5\n",
      "...            ...          ...       ...       ...              ...\n",
      "299843        2318            6        44        25                5\n",
      "299844        2318            6        45        20                5\n",
      "299845        2318            6        46        22                5\n",
      "299846        2318            6        47        17                5\n",
      "299868        2319            0        21        25                5\n",
      "299874        2319            0        27        25                5\n",
      "299894        2319            0        47        16                5\n",
      "299941        2319            1        46        18                5\n",
      "299943        2319            2         0        19                5\n",
      "299990        2319            2        47        24                5\n",
      "299991        2319            3         0        18                5\n",
      "300003        2319            3        12        24                5\n",
      "300023        2319            3        32        24                5\n",
      "300039        2319            4         0        22                5\n",
      "300041        2319            4         2        18                5\n",
      "300051        2319            4        12        16                5\n",
      "300091        2319            5         4        23                5\n",
      "300092        2319            5         5        22                5\n",
      "300093        2319            5         6        25                5\n",
      "300100        2319            5        13        17                5\n",
      "300140        2319            6         5        21                5\n",
      "300141        2319            6         6        18                5\n",
      "300142        2319            6         7        20                5\n",
      "300143        2319            6         8        20                5\n",
      "300151        2319            6        16        19                5\n",
      "300152        2319            6        17        16                5\n",
      "300178        2319            6        43        22                5\n",
      "300179        2319            6        44        24                5\n",
      "300180        2319            6        45        20                5\n",
      "300181        2319            6        46        24                5\n",
      "\n",
      "[22572 rows x 5 columns]\n"
     ]
    }
   ],
   "source": [
    "applyBucketsToActivity(df)\n",
    "# print(df.head())\n",
    "df.to_pickle('/home/lashi/assets/clean-data/activity_master.pickle')\n",
    "# print(df.loc[df['activity_bucket'] == 5])"
   ]
  }
 ],
 "metadata": {
  "kernelspec": {
   "display_name": "Python 3",
   "language": "python",
   "name": "python3"
  },
  "language_info": {
   "codemirror_mode": {
    "name": "ipython",
    "version": 3
   },
   "file_extension": ".py",
   "mimetype": "text/x-python",
   "name": "python",
   "nbconvert_exporter": "python",
   "pygments_lexer": "ipython3",
   "version": "3.7.0"
  }
 },
 "nbformat": 4,
 "nbformat_minor": 2
}
