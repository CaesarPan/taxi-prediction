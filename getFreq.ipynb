{
 "cells": [
  {
   "cell_type": "code",
   "execution_count": 1,
   "metadata": {},
   "outputs": [],
   "source": [
    "import os\n",
    "import torch\n",
    "import numpy as np\n",
    "import pandas as pd\n",
    "import datetime as dt\n",
    "from torch.utils.data import Dataset, DataLoader\n",
    "from taxiDataset import *"
   ]
  },
  {
   "cell_type": "code",
   "execution_count": 9,
   "metadata": {},
   "outputs": [
    {
     "name": "stdout",
     "output_type": "stream",
     "text": [
      "    PULocationID  day_of_week  t_bucket   0\n",
      "0            209            3         0   1\n",
      "1            132            3         0   6\n",
      "2             41            3         0   1\n",
      "3            100            3         0   4\n",
      "4            138            3         0   7\n",
      "5            261            3         0   1\n",
      "6            233            3         0   1\n",
      "7            113            3         0   4\n",
      "8            142            3         0   1\n",
      "9              4            3         0   1\n",
      "10           107            3         0   4\n",
      "11           170            3         0   6\n",
      "12           114            3         0   4\n",
      "13           263            3         0   1\n",
      "14           158            3         0   5\n",
      "15           129            3         0   1\n",
      "16           231            3         0   5\n",
      "17            48            3         0   9\n",
      "18            90            3         0   2\n",
      "19           163            3         0   5\n",
      "20           125            3         0   3\n",
      "21           244            3         0   1\n",
      "22           144            3         0   2\n",
      "23           236            3         0   1\n",
      "24           246            3         0   2\n",
      "25           226            3         0   2\n",
      "26           249            3         0   2\n",
      "27            45            3         0   1\n",
      "28           264            3         0   6\n",
      "29            68            3         0   5\n",
      "30           146            3         0   1\n",
      "31           211            3         0   1\n",
      "32           189            3         0   2\n",
      "33           161            3         0  12\n",
      "34           148            3         0   3\n",
      "35            28            3         0   1\n",
      "36           162            3         0   8\n",
      "37           237            3         0   2\n",
      "38           186            3         0   5\n",
      "39           239            3         0   1\n",
      "40           224            3         0   1\n",
      "41           230            3         0  11\n",
      "42           164            3         0   9\n",
      "43           234            3         0  11\n",
      "44           229            3         0   1\n",
      "45            79            3         0  10\n",
      "46           232            3         0   2\n"
     ]
    }
   ],
   "source": [
    "PU_dt = 'tpep_pickup_datetime'\n",
    "PU_loc = 'PULocationID'\n",
    "PU_dow = 'day_of_week'\n",
    "bucket = 't_bucket'\n",
    "dl = [PU_loc,PU_dow,bucket]\n",
    "\n",
    "taxi_dataset = taxiDataset(csv_file='test.csv', desired_labels=dl)\n",
    "\n",
    "# taxi_dataset = taxiDataset(csv_file='yellow_tripdata_2016-12.csv', desired_labels=dl)\n",
    "df = taxi_dataset.df\n",
    "df_set = df.loc[(df[PU_dow] == 3)&(df[bucket]==0)].reset_index(drop=True)\n",
    "freq = df_set.drop([PU_dow,bucket],axis=1).reset_index(drop=True)\n",
    "test_set = taxiDataset(split='test_only',data_frame=df_set)\n",
    "print(test_set.df)"
   ]
  },
  {
   "cell_type": "code",
   "execution_count": null,
   "metadata": {},
   "outputs": [],
   "source": []
  }
 ],
 "metadata": {
  "kernelspec": {
   "display_name": "Python 3",
   "language": "python",
   "name": "python3"
  },
  "language_info": {
   "codemirror_mode": {
    "name": "ipython",
    "version": 3
   },
   "file_extension": ".py",
   "mimetype": "text/x-python",
   "name": "python",
   "nbconvert_exporter": "python",
   "pygments_lexer": "ipython3",
   "version": "3.7.0"
  }
 },
 "nbformat": 4,
 "nbformat_minor": 2
}
