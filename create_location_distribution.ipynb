{
 "cells": [
  {
   "cell_type": "code",
   "execution_count": 1,
   "metadata": {},
   "outputs": [],
   "source": [
    "import os\n",
    "import numpy as np\n",
    "import pandas as pd\n",
    "import matplotlib.pyplot as plt\n",
    "from sklearn.model_selection import train_test_split\n",
    "from sklearn.cluster import KMeans\n",
    "import pdb"
   ]
  },
  {
   "cell_type": "code",
   "execution_count": 51,
   "metadata": {},
   "outputs": [],
   "source": [
    "df_pickle = '/home/lashi/assets/clean-data/full_data_141516.pickle'\n",
    "df = pd.read_pickle(df_pickle).reset_index(drop=True)"
   ]
  },
  {
   "cell_type": "code",
   "execution_count": 50,
   "metadata": {},
   "outputs": [],
   "source": [
    "# Get time buckets (only needs to be run once)\n",
    "def createTimeBuckets(slot):\n",
    "    # loop to create time bucket dictionary\n",
    "    time_buckets = dict()\n",
    "    numBuckets = int(24*(60/slot))\n",
    "    ind = 0\n",
    "    for hr in range(24):\n",
    "        for i in range(int(60/slot)):\n",
    "            key = '%02d'%hr+':'+'%02d'%(i*slot)+':00'\n",
    "            oneHotVec = np.zeros((1,numBuckets)).astype('int')\n",
    "            oneHotVec[0,ind] = 1\n",
    "            time_buckets[key] = ind\n",
    "            time_buckets[ind] = oneHotVec\n",
    "            ind += 1\n",
    "\n",
    "    return time_buckets\n",
    "    \n",
    "def parsetime(data_frame, desired_labels, dt_label, timeBuckets):\n",
    "    data_frame[dt_label] = pd.to_datetime(data_frame[dt_label])\n",
    "    data_frame[dt_label] = data_frame[dt_label].dt.round('30min')\n",
    "    data_frame[desired_labels[0]] = data_frame[dt_label].dt.dayofweek\n",
    "    data_frame[desired_labels[1]] = data_frame[dt_label].dt.time.apply(lambda x: timeBuckets[str(x)])\n",
    "    data_frame[desired_labels[2]] = data_frame[dt_label].dt.month\n",
    "\n",
    "tBuckets = createTimeBuckets(30)\n",
    "desired_labels = ['day_of_week','t_bucket','month']\n",
    "PU_dt = 'tpep_pickup_datetime'\n",
    "parsetime(df,desired_labels,PU_dt,tBuckets)\n",
    "# df.to_pickle(df_pickle)"
   ]
  },
  {
   "cell_type": "code",
   "execution_count": 57,
   "metadata": {},
   "outputs": [
    {
     "name": "stdout",
     "output_type": "stream",
     "text": [
      "2889110\n",
      "      pickup_id  cluster_id     0\n",
      "0           1.0           0    46\n",
      "1           1.0           1    19\n",
      "2           1.0           2    28\n",
      "3           1.0           3    16\n",
      "4           1.0           4    22\n",
      "5           1.0           5     3\n",
      "6           1.0           6     5\n",
      "7           1.0           7    17\n",
      "8           1.0           8     1\n",
      "9           1.0           9     2\n",
      "10          2.0          10     1\n",
      "11          3.0          11     1\n",
      "12          3.0          12     1\n",
      "13          3.0          13     1\n",
      "14          3.0          14     1\n",
      "15          3.0          15     1\n",
      "16          3.0          16     1\n",
      "17          3.0          17     1\n",
      "18          4.0          18   716\n",
      "19          4.0          19  1264\n",
      "20          4.0          20   649\n",
      "21          4.0          21  1493\n",
      "22          4.0          22   835\n",
      "23          4.0          23   823\n",
      "24          4.0          24  1331\n",
      "25          4.0          25   532\n",
      "26          4.0          26   728\n",
      "27          4.0          27  1356\n",
      "28          5.0          28     1\n",
      "29          6.0          29     1\n",
      "...         ...         ...   ...\n",
      "2290      261.0        2290  1927\n",
      "2291      261.0        2291  1965\n",
      "2292      261.0        2292  1101\n",
      "2293      261.0        2293  1607\n",
      "2294      261.0        2294  1346\n",
      "2295      261.0        2295  1603\n",
      "2296      261.0        2296  1082\n",
      "2297      261.0        2297  1077\n",
      "2298      261.0        2298  1752\n",
      "2299      261.0        2299   912\n",
      "2300      262.0        2300  2365\n",
      "2301      262.0        2301  5413\n",
      "2302      262.0        2302  3722\n",
      "2303      262.0        2303  3798\n",
      "2304      262.0        2304  4771\n",
      "2305      262.0        2305  4104\n",
      "2306      262.0        2306  4200\n",
      "2307      262.0        2307  2235\n",
      "2308      262.0        2308  2226\n",
      "2309      262.0        2309  1722\n",
      "2310      263.0        2310  2730\n",
      "2311      263.0        2311  6451\n",
      "2312      263.0        2312  5312\n",
      "2313      263.0        2313  5920\n",
      "2314      263.0        2314  5547\n",
      "2315      263.0        2315  3420\n",
      "2316      263.0        2316  5409\n",
      "2317      263.0        2317  6983\n",
      "2318      263.0        2318  3051\n",
      "2319      263.0        2319  5557\n",
      "\n",
      "[2320 rows x 3 columns]\n"
     ]
    }
   ],
   "source": [
    "df1 = df.groupby(['pickup_id','cluster_id']).size().reset_index()\n",
    "print(len(df['pickup_id']==1.0))\n",
    "print(df1)"
   ]
  },
  {
   "cell_type": "code",
   "execution_count": null,
   "metadata": {},
   "outputs": [],
   "source": []
  }
 ],
 "metadata": {
  "kernelspec": {
   "display_name": "Python 3",
   "language": "python",
   "name": "python3"
  },
  "language_info": {
   "codemirror_mode": {
    "name": "ipython",
    "version": 3
   },
   "file_extension": ".py",
   "mimetype": "text/x-python",
   "name": "python",
   "nbconvert_exporter": "python",
   "pygments_lexer": "ipython3",
   "version": "3.7.0"
  }
 },
 "nbformat": 4,
 "nbformat_minor": 2
}
