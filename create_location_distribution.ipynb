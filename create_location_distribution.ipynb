{
 "cells": [
  {
   "cell_type": "code",
   "execution_count": 1,
   "metadata": {},
   "outputs": [],
   "source": [
    "import os\n",
    "import numpy as np\n",
    "import pandas as pd\n",
    "import matplotlib.pyplot as plt\n",
    "from sklearn.model_selection import train_test_split\n",
    "from sklearn.cluster import KMeans\n",
    "import pdb"
   ]
  },
  {
   "cell_type": "code",
   "execution_count": 2,
   "metadata": {},
   "outputs": [],
   "source": [
    "df_pickle = '/home/lashi/assets/clean-data/full_data_141516.pickle'\n",
    "df = pd.read_pickle(df_pickle).reset_index(drop=True)"
   ]
  },
  {
   "cell_type": "code",
   "execution_count": 4,
   "metadata": {},
   "outputs": [
    {
     "name": "stdout",
     "output_type": "stream",
     "text": [
      "   dropoff_id  dropoff_latitude  dropoff_longitude  \\\n",
      "0       162.0         40.758575         -73.971850   \n",
      "1       141.0         40.767979         -73.956632   \n",
      "2       114.0         40.728221         -73.999390   \n",
      "3       162.0         40.754197         -73.975601   \n",
      "4       164.0         40.746460         -73.989663   \n",
      "\n",
      "                           dropoff_merc_x_y  fare_amount  pickup_id  \\\n",
      "0   (-8234508.675036414, 4976796.485561519)          8.5       50.0   \n",
      "1   (-8232814.615025521, 4978178.621231795)          4.0      263.0   \n",
      "2   (-8237574.413812861, 4972336.595569553)         11.0       48.0   \n",
      "3  (-8234926.2344463775, 4976153.103735587)          5.5      170.0   \n",
      "4   (-8236491.609125912, 4975016.193801009)          6.5      161.0   \n",
      "\n",
      "   pickup_latitude  pickup_longitude                          pickup_merc_x_y  \\\n",
      "0        40.762503        -73.993487  (-8236917.294858707, 4977373.772382576)   \n",
      "1        40.773923        -73.954618  (-8232590.417571062, 4979052.330627303)   \n",
      "2        40.761079        -73.987031  (-8236198.616226147, 4977164.487271285)   \n",
      "3        40.745814        -73.981887  (-8235625.988765505, 4974921.273609048)   \n",
      "4        40.754623        -73.980423  (-8235463.017030984, 4976215.705953844)   \n",
      "\n",
      "   tip_amount tpep_dropoff_datetime tpep_pickup_datetime  trip_distance  \\\n",
      "0         1.8   2014-07-07 07:53:37  2014-07-07 07:42:48            1.4   \n",
      "1         0.0   2014-07-10 13:54:01  2014-07-10 13:51:40            0.5   \n",
      "2         0.0   2014-07-10 02:38:23  2014-07-10 02:27:41            2.7   \n",
      "3         0.0   2014-07-10 09:01:35  2014-07-10 08:55:23            0.6   \n",
      "4         0.0   2014-07-10 11:49:01  2014-07-10 11:41:17            0.9   \n",
      "\n",
      "   cluster_id  \n",
      "0         420  \n",
      "1        2316  \n",
      "2         401  \n",
      "3        1479  \n",
      "4        1394  \n"
     ]
    }
   ],
   "source": [
    "print(df.head())"
   ]
  },
  {
   "cell_type": "code",
   "execution_count": null,
   "metadata": {},
   "outputs": [],
   "source": []
  }
 ],
 "metadata": {
  "kernelspec": {
   "display_name": "Python 3",
   "language": "python",
   "name": "python3"
  },
  "language_info": {
   "codemirror_mode": {
    "name": "ipython",
    "version": 3
   },
   "file_extension": ".py",
   "mimetype": "text/x-python",
   "name": "python",
   "nbconvert_exporter": "python",
   "pygments_lexer": "ipython3",
   "version": "3.7.0"
  }
 },
 "nbformat": 4,
 "nbformat_minor": 2
}
