{
 "cells": [
  {
   "cell_type": "code",
   "execution_count": 1,
   "metadata": {},
   "outputs": [
    {
     "name": "stderr",
     "output_type": "stream",
     "text": [
      "/opt/anaconda/anaconda3/lib/python3.7/site-packages/sklearn/ensemble/weight_boosting.py:29: DeprecationWarning: numpy.core.umath_tests is an internal NumPy module and should not be imported. It will be removed in a future NumPy release.\n",
      "  from numpy.core.umath_tests import inner1d\n"
     ]
    }
   ],
   "source": [
    "from sklearn.ensemble import RandomForestRegressor\n",
    "from sklearn.datasets import make_classification\n",
    "from sklearn.model_selection import train_test_split\n",
    "\n",
    "import pandas as pd\n",
    "import numpy as np\n",
    "import matplotlib.pyplot as plt\n",
    "\n",
    "from taxiDataset import taxiDataset"
   ]
  },
  {
   "cell_type": "code",
   "execution_count": 99,
   "metadata": {},
   "outputs": [
    {
     "data": {
      "text/plain": [
       "RandomForestRegressor(bootstrap=True, criterion='mse', max_depth=None,\n",
       "           max_features=2, max_leaf_nodes=None, min_impurity_decrease=0.0,\n",
       "           min_impurity_split=None, min_samples_leaf=1,\n",
       "           min_samples_split=2, min_weight_fraction_leaf=0.0,\n",
       "           n_estimators=40, n_jobs=-1, oob_score=False, random_state=None,\n",
       "           verbose=0, warm_start=False)"
      ]
     },
     "execution_count": 99,
     "metadata": {},
     "output_type": "execute_result"
    }
   ],
   "source": [
    "sample_percentage = .10\n",
    "df = pd.read_csv('./assets/year-df-clean.csv')\n",
    "dataset_size = df.shape[0]\n",
    "\n",
    "train, valid = train_test_split(df, test_size=0.1)\n",
    "\n",
    "regr = RandomForestRegressor(n_estimators=40, n_jobs=-1, max_features=2)\n",
    "\n",
    "xTrain = train.drop(['pickups', 'ind'], axis=1)\n",
    "yTrain = train['pickups']\n",
    "\n",
    "xTest = valid.drop(['pickups', 'ind'], axis=1)\n",
    "yTest = valid['pickups']\n",
    "\n",
    "regr.fit(xTrain, yTrain)"
   ]
  },
  {
   "cell_type": "code",
   "execution_count": 100,
   "metadata": {},
   "outputs": [
    {
     "name": "stdout",
     "output_type": "stream",
     "text": [
      "PULocationID\n",
      "day_of_week\n",
      "t_bucket\n",
      "month_of_year\n",
      "[0.76631311 0.04236696 0.13560345 0.05571648]\n"
     ]
    }
   ],
   "source": [
    "for key in xTrain.keys():\n",
    "    print(key)\n",
    "\n",
    "print(regr.feature_importances_)"
   ]
  },
  {
   "cell_type": "code",
   "execution_count": 144,
   "metadata": {},
   "outputs": [
    {
     "name": "stdout",
     "output_type": "stream",
     "text": [
      "79.87604166666667\n",
      "210.4575\n"
     ]
    },
    {
     "data": {
      "image/png": "[encoded data removed]",
      "text/plain": [
       "<Figure size 432x288 with 1 Axes>"
      ]
     },
     "metadata": {
      "needs_background": "light"
     },
     "output_type": "display_data"
    }
   ],
   "source": [
    "predictions = regr.predict(xTest)\n",
    "predictions = predictions.astype(int)\n",
    "\n",
    "train_pred = regr.predict(xTrain)\n",
    "train_pred = predictions.astype(int)\n",
    "\n",
    "diff = np.abs(predictions - yTest)\n",
    "\n",
    "print(np.mean(diff))\n",
    "print(np.mean(yTest))\n",
    "\n",
    "x = np.linspace(0, 4799, 4800)\n",
    "plt.plot(x, diff)\n",
    "plt.show()"
   ]
  },
  {
   "cell_type": "code",
   "execution_count": 2,
   "metadata": {},
   "outputs": [
    {
     "name": "stdout",
     "output_type": "stream",
     "text": [
      "[0.72841821 0.05574514 0.19639373 0.01944293]\n"
     ]
    }
   ],
   "source": [
    "sample_percentage = .10\n",
    "df = pd.read_csv('./assets/year-df-clean.csv')\n",
    "dataset_size = df.shape[0]\n",
    "\n",
    "train, valid = train_test_split(df, test_size=0.05)\n",
    "\n",
    "regr = RandomForestRegressor(n_estimators=40, n_jobs=-1)\n",
    "\n",
    "xTrain = train.drop(['pickups', 'ind'], axis=1)\n",
    "yTrain = train['pickups']\n",
    "\n",
    "xTest = valid.drop(['pickups', 'ind'], axis=1)\n",
    "yTest = valid['pickups']\n",
    "\n",
    "regr.fit(xTrain, yTrain)\n",
    "\n",
    "print(regr.feature_importances_)"
   ]
  },
  {
   "cell_type": "code",
   "execution_count": 48,
   "metadata": {},
   "outputs": [
    {
     "name": "stdout",
     "output_type": "stream",
     "text": [
      "31.98875\n",
      "216.05625\n"
     ]
    },
    {
     "data": {
      "image/png": "[encoded data removed]",
      "text/plain": [
       "<Figure size 432x288 with 1 Axes>"
      ]
     },
     "metadata": {
      "needs_background": "light"
     },
     "output_type": "display_data"
    }
   ],
   "source": [
    "predictions = regr.predict(xTest)\n",
    "predictions = predictions.astype(int)\n",
    "\n",
    "train_pred = regr.predict(xTrain)\n",
    "train_pred = predictions.astype(int)\n",
    "\n",
    "diff = np.abs(predictions - yTest)\n",
    "\n",
    "print(np.mean(diff))\n",
    "print(np.mean(yTest))\n",
    "\n",
    "x = np.linspace(0, 2399, 2400)\n",
    "plt.plot(x, diff)\n",
    "plt.show()"
   ]
  },
  {
   "cell_type": "code",
   "execution_count": 76,
   "metadata": {},
   "outputs": [
    {
     "name": "stdout",
     "output_type": "stream",
     "text": [
      "78\n",
      "755\n"
     ]
    }
   ],
   "source": [
    "# print(diff)\n",
    "diff = diff.reset_index(drop=True)\n",
    "\n",
    "# print(diff.idxmax())\n",
    "\n",
    "print(yTest[13009])\n",
    "print(predictions[1102])\n",
    "\n",
    "#diff[13009]\n",
    "# yTest[13009]\n",
    "\n",
    "# print(type(predictions))\n",
    "# final = yTest\n",
    "\n",
    "\n",
    "\n",
    "# print(final)\n",
    "# final['pred'] = predictions.tolist()\n",
    "# final[13009]\n",
    "\n",
    "# train[13009]\n",
    "\n",
    "# diff.drop('ind')\n",
    "# print(diff.idxmax(axis=1))\n",
    "# print(predictions[diff.idxmax])\n",
    "\n",
    "# print(predictions[176])\n",
    "# print(yTest.iloc[176])"
   ]
  }
 ],
 "metadata": {
  "kernelspec": {
   "display_name": "Python 3",
   "language": "python",
   "name": "python3"
  },
  "language_info": {
   "codemirror_mode": {
    "name": "ipython",
    "version": 3
   },
   "file_extension": ".py",
   "mimetype": "text/x-python",
   "name": "python",
   "nbconvert_exporter": "python",
   "pygments_lexer": "ipython3",
   "version": "3.7.0"
  }
 },
 "nbformat": 4,
 "nbformat_minor": 2
}
