{
 "cells": [
  {
   "cell_type": "code",
   "execution_count": 29,
   "metadata": {},
   "outputs": [],
   "source": [
    "import os\n",
    "import numpy as np\n",
    "import pandas as pd\n",
    "import matplotlib.pyplot as plt\n",
    "from sklearn.model_selection import train_test_split\n",
    "from sklearn.cluster import KMeans\n",
    "import pdb"
   ]
  },
  {
   "cell_type": "code",
   "execution_count": 30,
   "metadata": {},
   "outputs": [],
   "source": [
    "df_pickle = '/home/lashi/assets/sampled_data_2014_clean.pickle'\n",
    "df = pd.read_pickle(df_pickle).reset_index(drop=True)"
   ]
  },
  {
   "cell_type": "code",
   "execution_count": null,
   "metadata": {},
   "outputs": [],
   "source": [
    "df1 = df.groupby(['pickup_id','pickup_merc_x_y']).size().reset_index()\n",
    "print(df1.loc[df1['pickup_id'] == 4])\n",
    "test = df.loc[df['pickup_id'] == 2]\n"
   ]
  },
  {
   "cell_type": "code",
   "execution_count": 40,
   "metadata": {},
   "outputs": [
    {
     "name": "stdout",
     "output_type": "stream",
     "text": [
      "0\n",
      "10\n",
      "20\n",
      "30\n",
      "40\n",
      "50\n",
      "60\n",
      "70\n",
      "80\n",
      "90\n",
      "100\n",
      "110\n",
      "120\n",
      "130\n",
      "140\n",
      "150\n",
      "160\n",
      "170\n",
      "180\n",
      "190\n",
      "200\n",
      "210\n",
      "220\n",
      "230\n",
      "240\n",
      "250\n",
      "260\n",
      "270\n"
     ]
    }
   ],
   "source": [
    "clusters_dict = dict()\n",
    "cluster_i = 0\n",
    "num_clusters = 10\n",
    "cluster_id = np.zeros((len(df),))\n",
    "for i in range(280):\n",
    "    if i%50 == 0:\n",
    "        print(i)\n",
    "    df_id = df.loc[df['pickup_id'] == i]\n",
    "    if not df_id.empty:\n",
    "        PU_long_lat_id = np.stack(df_id['pickup_merc_x_y'].values,axis=0)\n",
    "        if len(PU_long_lat_id) >= num_clusters:\n",
    "            kmeans = KMeans(n_clusters=num_clusters,n_jobs=-1).fit(PU_long_lat_id)\n",
    "            cluster_centroids = kmeans.cluster_centers_\n",
    "            labels = kmeans.labels_\n",
    "        else:\n",
    "            cluster_centroids = PU_long_lat_id\n",
    "            labels = np.asarray(range(len(cluster_centroids)))\n",
    "        \n",
    "#         print(i,len(PU_long_lat_id))\n",
    "        for k, cluster in enumerate(cluster_centroids):\n",
    "            clusters_dict[cluster_i] = cluster\n",
    "            k_group = df_id.loc[labels==k]\n",
    "            k_group_i = k_group.index.values\n",
    "            cluster_id[k_group_i] = cluster_i\n",
    "            cluster_i += 1\n",
    "            \n",
    "df['cluster_id'] = cluster_id.astype('int')\n",
    "\n",
    "    "
   ]
  },
  {
   "cell_type": "code",
   "execution_count": 46,
   "metadata": {},
   "outputs": [
    {
     "name": "stdout",
     "output_type": "stream",
     "text": [
      "1908\n"
     ]
    }
   ],
   "source": [
    "print(len(clusters_dict.keys()))"
   ]
  },
  {
   "cell_type": "code",
   "execution_count": null,
   "metadata": {},
   "outputs": [],
   "source": []
  }
 ],
 "metadata": {
  "kernelspec": {
   "display_name": "Python 3",
   "language": "python",
   "name": "python3"
  },
  "language_info": {
   "codemirror_mode": {
    "name": "ipython",
    "version": 3
   },
   "file_extension": ".py",
   "mimetype": "text/x-python",
   "name": "python",
   "nbconvert_exporter": "python",
   "pygments_lexer": "ipython3",
   "version": "3.7.0"
  }
 },
 "nbformat": 4,
 "nbformat_minor": 2
}
