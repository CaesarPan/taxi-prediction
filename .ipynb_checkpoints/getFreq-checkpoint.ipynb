{
 "cells": [
  {
   "cell_type": "code",
   "execution_count": null,
   "metadata": {},
   "outputs": [],
   "source": [
    "import os\n",
    "import torch\n",
    "import numpy as np\n",
    "import pandas as pd\n",
    "import datetime as dt\n",
    "from torch.utils.data import Dataset, DataLoader\n",
    "from taxiDataset import *"
   ]
  },
  {
   "cell_type": "code",
   "execution_count": null,
   "metadata": {},
   "outputs": [],
   "source": [
    "PU_dt = 'tpep_pickup_datetime'\n",
    "PU_loc = 'PULocationID'\n",
    "PU_dow = 'day_of_week'\n",
    "bucket = 't_bucket'\n",
    "dl = [PU_loc,PU_dow,bucket]\n",
    "\n",
    "taxi_dataset = taxiDataset(csv_file='test.csv', desired_labels=dl)\n",
    "\n",
    "# taxi_dataset = taxiDataset(csv_file='yellow_tripdata_2016-12.csv', desired_labels=dl)\n",
    "df = taxi_dataset.df\n",
    "df_set = df.loc[(df[PU_dow] == 4)&(df[bucket]==36)].reset_index(drop=True)\n",
    "freq = df_set.drop([PU_dow,bucket],axis=1).reset_index(drop=True)\n",
    "test_set = taxiDataset(split='test_only',data_frame=df_set)\n",
    "print(freq)"
   ]
  },
  {
   "cell_type": "code",
   "execution_count": null,
   "metadata": {},
   "outputs": [],
   "source": []
  }
 ],
 "metadata": {
  "kernelspec": {
   "display_name": "Python 3",
   "language": "python",
   "name": "python3"
  },
  "language_info": {
   "codemirror_mode": {
    "name": "ipython",
    "version": 3
   },
   "file_extension": ".py",
   "mimetype": "text/x-python",
   "name": "python",
   "nbconvert_exporter": "python",
   "pygments_lexer": "ipython3",
   "version": "3.7.0"
  }
 },
 "nbformat": 4,
 "nbformat_minor": 2
}
