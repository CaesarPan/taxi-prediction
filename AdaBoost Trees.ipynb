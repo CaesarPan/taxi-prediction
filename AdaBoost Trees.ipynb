{
 "cells": [
  {
   "cell_type": "code",
   "execution_count": 1,
   "metadata": {},
   "outputs": [
    {
     "name": "stderr",
     "output_type": "stream",
     "text": [
      "/opt/anaconda/anaconda3/lib/python3.7/site-packages/sklearn/ensemble/weight_boosting.py:29: DeprecationWarning: numpy.core.umath_tests is an internal NumPy module and should not be imported. It will be removed in a future NumPy release.\n",
      "  from numpy.core.umath_tests import inner1d\n"
     ]
    }
   ],
   "source": [
    "import os\n",
    "import pandas as pd\n",
    "import joblib\n",
    "import numpy as np\n",
    "\n",
    "from sklearn.ensemble import AdaBoostClassifier\n",
    "from sklearn.metrics import accuracy_score\n",
    "from sklearn.tree import DecisionTreeClassifier\n",
    "from sklearn.model_selection import train_test_split"
   ]
  },
  {
   "cell_type": "code",
   "execution_count": 2,
   "metadata": {},
   "outputs": [],
   "source": [
    "df = pd.read_pickle('./assets/clean-data/data_set_master.pickle')"
   ]
  },
  {
   "cell_type": "code",
   "execution_count": 3,
   "metadata": {},
   "outputs": [
    {
     "name": "stdout",
     "output_type": "stream",
     "text": [
      "9657394\n",
      "   cluster_id  day_of_week  fare_amount  month  t_bucket  trip_distance  \\\n",
      "0         421            0          8.5      7        15            1.4   \n",
      "1        2316            3          4.0      7        28            0.5   \n",
      "2         399            3         11.0      7         5            2.7   \n",
      "3        1480            3          5.5      7        18            0.6   \n",
      "4        1393            3          6.5      7        23            0.9   \n",
      "\n",
      "   fare_bucket  dist_bucket  \n",
      "0            2            2  \n",
      "1            1            0  \n",
      "2            3            4  \n",
      "3            2            1  \n",
      "4            2            1  \n"
     ]
    }
   ],
   "source": [
    "df = pd.read_pickle('./assets/clean-data/full_data_161718_bucketed.pickle')\n",
    "\n",
    "print(len(df))\n",
    "print(df.head())\n",
    "\n",
    "# train, valid = train_test_split(df, test_size=0.05)\n",
    "train = joblib.load('train-fare.joblib')\n",
    "\n",
    "bdt_real = AdaBoostClassifier(\n",
    "    DecisionTreeClassifier(max_depth=2),\n",
    "    n_estimators=200,\n",
    "    learning_rate=1)\n",
    "\n",
    "df = df[['PULocationID', 'DOLocationID', 'day_of_week', 't_bucket',\n",
    "              'month', 'cluster_id', 'fare_bucket', 'dist_bucket']]\n",
    "\n",
    "df = df.drop(['month'], axis=1)\n",
    "\n",
    "xTrain = train.drop(['DOLocationID', 'dist_bucket', 'fare_bucket'], axis=1)\n",
    "yTrain = train['fare_bucket']\n",
    "\n",
    "bdt_real.fit(xTrain, yTrain)\n",
    "\n",
    "joblib.dump(bdt_real, './ada-models/ada-200-fare-2-wclus.joblib')"
   ]
  },
  {
   "cell_type": "code",
   "execution_count": null,
   "metadata": {},
   "outputs": [],
   "source": [
    "# df = pd.read_pickle('./assets/data_set_master.pickle')\n",
    "# train, valid = train_test_split(df, test_size=0.05)\n",
    "\n",
    "classifier = joblib.load('./ada-models/ada-200-fare-2-wclus.joblib')\n",
    "\n",
    "valid = joblib.load('valid-fare.joblib')\n",
    "\n",
    "xTest = valid.drop(['DOLocationID', 'dist_bucket', 'fare_bucket'], axis=1)\n",
    "yTest = valid['fare_bucket']\n",
    "\n",
    "predictions = classifier.predict(xTest)\n",
    "\n",
    "valid['predictions'] = predictions\n",
    "valid.to_pickle('./assets/predictions_fare.pickle')\n",
    "\n",
    "print(np.mean(yTest == predictions))\n",
    "print(classifier.feature_importances_)"
   ]
  },
  {
   "cell_type": "code",
   "execution_count": null,
   "metadata": {},
   "outputs": [],
   "source": [
    "df = pd.read_pickle('./assets/activity_master.pickle')\n",
    "\n",
    "print(len(df))\n",
    "print(df.head())\n",
    "\n",
    "train, valid = train_test_split(df, test_size=0.05)\n",
    "# train = joblib.load('train_fare.joblib')\n",
    "\n",
    "bdt_real = AdaBoostClassifier(\n",
    "    DecisionTreeClassifier(max_depth=3),\n",
    "    n_estimators=200,\n",
    "    learning_rate=1)\n",
    "\n",
    "xTrain = train.drop(['activity', 'activity_bucket'], axis=1)\n",
    "yTrain = train['activity_bucket']\n",
    "\n",
    "bdt_real.fit(xTrain, yTrain)\n",
    "\n",
    "joblib.dump(bdt_real, './ada-models/ada-200-act-3.joblib')\n",
    "joblib.dump(train, 'train-activity.joblib')\n",
    "joblib.dump(valid, 'valid-activity.joblib')"
   ]
  },
  {
   "cell_type": "code",
   "execution_count": null,
   "metadata": {},
   "outputs": [],
   "source": [
    "classifier = joblib.load('./ada-models/ada-200-act-3.joblib')\n",
    "\n",
    "valid = joblib.load('valid-activity.joblib')\n",
    "xTest = valid.drop(['activity', 'activity_bucket'], axis=1)\n",
    "yTest = valid['activity_bucket']\n",
    "\n",
    "predictions = classifier.predict(xTest)\n",
    "\n",
    "valid['predictions'] = predictions\n",
    "valid.to_pickle('./assets/predictions_fare.pickle')\n",
    "\n",
    "print(np.mean(yTest == predictions))\n",
    "print(classifier.feature_importances_)"
   ]
  }
 ],
 "metadata": {
  "kernelspec": {
   "display_name": "Python 3",
   "language": "python",
   "name": "python3"
  },
  "language_info": {
   "codemirror_mode": {
    "name": "ipython",
    "version": 3
   },
   "file_extension": ".py",
   "mimetype": "text/x-python",
   "name": "python",
   "nbconvert_exporter": "python",
   "pygments_lexer": "ipython3",
   "version": "3.7.0"
  }
 },
 "nbformat": 4,
 "nbformat_minor": 2
}
