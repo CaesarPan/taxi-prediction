{
 "cells": [
  {
   "cell_type": "code",
   "execution_count": 3,
   "metadata": {},
   "outputs": [],
   "source": [
    "from sklearn.ensemble import RandomForestRegressor\n",
    "from sklearn.ensemble import RandomForestClassifier\n",
    "from sklearn.datasets import make_classification\n",
    "from sklearn.model_selection import train_test_split\n",
    "\n",
    "import pandas as pd\n",
    "import numpy as np\n",
    "import matplotlib.pyplot as plt\n",
    "\n",
    "from taxiDataset import taxiDataset"
   ]
  },
  {
   "cell_type": "code",
   "execution_count": 7,
   "metadata": {},
   "outputs": [
    {
     "data": {
      "text/plain": [
       "RandomForestRegressor(bootstrap=True, criterion='mse', max_depth=None,\n",
       "           max_features='auto', max_leaf_nodes=None,\n",
       "           min_impurity_decrease=0.0, min_impurity_split=None,\n",
       "           min_samples_leaf=1, min_samples_split=2,\n",
       "           min_weight_fraction_leaf=0.0, n_estimators=40, n_jobs=-1,\n",
       "           oob_score=False, random_state=None, verbose=0, warm_start=False)"
      ]
     },
     "execution_count": 7,
     "metadata": {},
     "output_type": "execute_result"
    }
   ],
   "source": [
    "sample_percentage = .10\n",
    "df = pd.read_csv('./assets/year-df-clean.csv')\n",
    "dataset_size = df.shape[0]\n",
    "\n",
    "train, valid = train_test_split(df, test_size=0.1)\n",
    "\n",
    "regr = RandomForestRegressor(n_estimators=40, n_jobs=-1)\n",
    "\n",
    "xTrain = train.drop(['pickups', 'ind'], axis=1)\n",
    "yTrain = train['pickups']\n",
    "\n",
    "xTest = valid.drop(['pickups', 'ind'], axis=1)\n",
    "yTest = valid['pickups']\n",
    "\n",
    "regr.fit(xTrain, yTrain)"
   ]
  },
  {
   "cell_type": "code",
   "execution_count": 8,
   "metadata": {},
   "outputs": [
    {
     "name": "stdout",
     "output_type": "stream",
     "text": [
      "PULocationID\n",
      "day_of_week\n",
      "t_bucket\n",
      "month_of_year\n",
      "[0.73202825 0.05619784 0.19282792 0.01894598]\n"
     ]
    }
   ],
   "source": [
    "for key in xTrain.keys():\n",
    "    print(key)\n",
    "\n",
    "print(regr.feature_importances_)"
   ]
  },
  {
   "cell_type": "code",
   "execution_count": 9,
   "metadata": {},
   "outputs": [
    {
     "name": "stdout",
     "output_type": "stream",
     "text": [
      "33.373958333333334\n",
      "203.63291666666666\n"
     ]
    },
    {
     "data": {
      "image/png": "[encoded data removed]",
      "text/plain": [
       "<Figure size 432x288 with 1 Axes>"
      ]
     },
     "metadata": {
      "needs_background": "light"
     },
     "output_type": "display_data"
    }
   ],
   "source": [
    "predictions = regr.predict(xTest)\n",
    "predictions = predictions.astype(int)\n",
    "\n",
    "train_pred = regr.predict(xTrain)\n",
    "train_pred = predictions.astype(int)\n",
    "\n",
    "diff = np.abs(predictions - yTest)\n",
    "\n",
    "print(np.mean(diff))\n",
    "print(np.mean(yTest))\n",
    "\n",
    "x = np.linspace(0, 4799, 4800)\n",
    "plt.plot(x, diff)\n",
    "plt.show()"
   ]
  },
  {
   "cell_type": "code",
   "execution_count": null,
   "metadata": {},
   "outputs": [],
   "source": [
    "# sample_percentage = .10\n",
    "df = pd.read_pickle('/home/lashi/assets/clean-data/data_set_master.pickle')\n",
    "dataset_size = len(df)\n",
    "\n",
    "df = df.drop(['month'], axis=1)\n",
    "\n",
    "train, valid = train_test_split(df, test_size=0.05)\n",
    "\n",
    "classifier = RandomForestClassifier(n_estimators=40, n_jobs=-1, verbose=3)\n",
    "\n",
    "xTrain = train.drop(['fare_amount', 'trip_distance', 'fare_bucket', 'dist_bucket'], axis=1)\n",
    "yTrain = train['fare_bucket']\n",
    "\n",
    "classifier.fit(xTrain, yTrain)\n",
    "\n",
    "xTest = valid.drop(['fare_amount', 'trip_distance', 'fare_bucket', 'dist_bucket'], axis=1)\n",
    "yTest = valid['fare_bucket']\n",
    "# regr.fit(xTrain, yTrain)"
   ]
  },
  {
   "cell_type": "code",
   "execution_count": null,
   "metadata": {},
   "outputs": [],
   "source": [
    "# print(classifier.feature_importances_)\n",
    "print(train.head())\n",
    "\n",
    "# predictions = classifier.predict(xTest)\n",
    "# predictions = predictions.astype(int)\n",
    "\n",
    "# train_pred = regr.predict(xTrain)\n",
    "# train_pred = predictions.astype(int)\n",
    "\n",
    "# diff = np.abs(predictions - yTest)\n",
    "\n",
    "# print(np.mean(diff))\n",
    "# print(np.mean(yTest))\n",
    "\n",
    "# x = np.linspace(0, 2399, 2400)\n",
    "# plt.plot(x, diff)\n",
    "# plt.show()"
   ]
  },
  {
   "cell_type": "code",
   "execution_count": null,
   "metadata": {},
   "outputs": [],
   "source": [
    "# print(diff)\n",
    "diff = diff.reset_index(drop=True)\n",
    "\n",
    "# print(diff.idxmax())\n",
    "\n",
    "print(yTest[13009])\n",
    "print(predictions[1102])\n",
    "\n",
    "#diff[13009]\n",
    "# yTest[13009]\n",
    "\n",
    "# print(type(predictions))\n",
    "# final = yTest\n",
    "\n",
    "\n",
    "\n",
    "# print(final)\n",
    "# final['pred'] = predictions.tolist()\n",
    "# final[13009]\n",
    "\n",
    "# train[13009]\n",
    "\n",
    "# diff.drop('ind')\n",
    "# print(diff.idxmax(axis=1))\n",
    "# print(predictions[diff.idxmax])\n",
    "\n",
    "# print(predictions[176])\n",
    "# print(yTest.iloc[176])"
   ]
  }
 ],
 "metadata": {
  "kernelspec": {
   "display_name": "Python 3",
   "language": "python",
   "name": "python3"
  },
  "language_info": {
   "codemirror_mode": {
    "name": "ipython",
    "version": 3
   },
   "file_extension": ".py",
   "mimetype": "text/x-python",
   "name": "python",
   "nbconvert_exporter": "python",
   "pygments_lexer": "ipython3",
   "version": "3.7.0"
  }
 },
 "nbformat": 4,
 "nbformat_minor": 2
}
